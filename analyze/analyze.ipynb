{
 "cells": [
  {
   "cell_type": "code",
   "execution_count": null,
   "metadata": {},
   "outputs": [],
   "source": [
    "import os\n",
    "import pandas as pd\n",
    "import numpy as np\n",
    "\n",
    "IND_FOLDER_PATH = \"outputs/ind\"\n",
    "E2E_FULL_FOLDER_PATH = \"outputs/e2e/full\"\n",
    "E2E_FULL_TASKS_FOLDER_PATH = \"outputs/e2e/full_tasks\"\n",
    "\n",
    "NUM_IND_TRIALS = 8"
   ]
  },
  {
   "cell_type": "markdown",
   "metadata": {},
   "source": [
    "# Analyze individual tests"
   ]
  },
  {
   "cell_type": "code",
   "execution_count": null,
   "metadata": {},
   "outputs": [],
   "source": [
    "csv_filenames = [f for f in os.listdir(IND_FOLDER_PATH) if f.endswith(\".csv\")]\n",
    "\n",
    "# retrieve the output files\n",
    "dataframes = []\n",
    "for filename in csv_filenames:\n",
    "    full_path = os.path.join(IND_FOLDER_PATH, filename)\n",
    "    print(f\"Processing individual outputs: {filename}\")\n",
    "    df = pd.read_csv(full_path)\n",
    "    df[\"Agent\"] = filename.split(\".csv\")[0]\n",
    "    dataframes.append(df)\n",
    "ind_df = pd.concat(dataframes)"
   ]
  },
  {
   "cell_type": "code",
   "execution_count": null,
   "metadata": {},
   "outputs": [],
   "source": [
    "normalized_ind_test = ind_df.groupby([\"Category\", \"Task\", \"Test\", \"Agent\"])[[\"Pass Count\", \"Total Count\"]].sum().reset_index()\n",
    "\n",
    "normalized_ind_test[\"Normalized Pass\"] = normalized_ind_test[\"Pass Count\"] / (normalized_ind_test[\"Total Count\"] / NUM_IND_TRIALS)\n",
    "normalized_ind_test[\"Normalized Total\"] = normalized_ind_test[\"Total Count\"] / (normalized_ind_test[\"Total Count\"] / NUM_IND_TRIALS)\n",
    "\n",
    "normalized_ind_test"
   ]
  },
  {
   "cell_type": "code",
   "execution_count": null,
   "metadata": {},
   "outputs": [],
   "source": [
    "ind_all = ind_df.groupby([\"Category\", \"Task\", \"Test\", \"Agent\"])[[\"Pass Count\", \"Total Count\"]].sum()\n",
    "ind_all[\"Pass Percentage\"] = ind_all[\"Pass Count\"] / ind_all[\"Total Count\"] * 100\n",
    "\n",
    "ind_all['moe'] = 1.96 * np.sqrt((ind_all['Pass Count'] / ind_all['Total Count']) * (1 - ind_all['Pass Count'] / ind_all['Total Count']) / ind_all['Total Count'])\n",
    "\n",
    "pivot_all = ind_all.pivot_table(index=[\"Category\", \"Task\", \"Test\", \"Total Count\"], columns=\"Agent\", values=[\"Pass Percentage\", \"moe\"])\n",
    "\n",
    "pivot_all"
   ]
  },
  {
   "cell_type": "code",
   "execution_count": null,
   "metadata": {},
   "outputs": [],
   "source": [
    "ind_tasks = normalized_ind_test.groupby([\"Category\", \"Task\", \"Agent\"])[[\"Normalized Pass\", \"Normalized Total\"]].sum()\n",
    "ind_tasks[\"Normalized Pass Percentage\"] = ind_tasks[\"Normalized Pass\"] / ind_tasks[\"Normalized Total\"] * 100\n",
    "pivot_tasks = ind_tasks.pivot_table(index=[\"Category\", \"Task\", \"Normalized Total\"], columns=\"Agent\", values=\"Normalized Pass Percentage\")\n",
    "\n",
    "pivot_tasks"
   ]
  },
  {
   "cell_type": "code",
   "execution_count": null,
   "metadata": {},
   "outputs": [],
   "source": [
    "ind_categories = normalized_ind_test.groupby([\"Category\", \"Agent\"])[[\"Normalized Pass\", \"Normalized Total\"]].sum()\n",
    "ind_categories[\"Normalized Pass Percentage\"] = ind_categories[\"Normalized Pass\"] / ind_categories[\"Normalized Total\"] * 100\n",
    "pivot_categories = ind_categories.pivot_table(index=[\"Category\", \"Normalized Total\"], columns=\"Agent\", values=\"Normalized Pass Percentage\")\n",
    "\n",
    "pivot_categories"
   ]
  },
  {
   "cell_type": "markdown",
   "metadata": {},
   "source": [
    "# Analyze E2E tests"
   ]
  },
  {
   "cell_type": "markdown",
   "metadata": {},
   "source": [
    "## Full"
   ]
  },
  {
   "cell_type": "code",
   "execution_count": null,
   "metadata": {},
   "outputs": [],
   "source": [
    "csv_filenames = [f for f in os.listdir(E2E_FULL_FOLDER_PATH) if f.endswith(\".csv\")]\n",
    "\n",
    "# retrieve the output files\n",
    "dataframes = []\n",
    "for filename in csv_filenames:\n",
    "    full_path = os.path.join(E2E_FULL_FOLDER_PATH, filename)\n",
    "    print(f\"Processing individual outputs: {filename}\")\n",
    "    df = pd.read_csv(full_path)\n",
    "    df[\"Agent\"] = filename.split(\".csv\")[0]\n",
    "    dataframes.append(df)\n",
    "e2e_full_df = pd.concat(dataframes)\n",
    "\n",
    "e2e_full_df = e2e_full_df.drop(columns=[\"Checkpoint\", \"Checkpoint Full Match\", \"Checkpoint Partial Match\", \"Checkpoint Missing\", \"Checkpoint Total Count\"])\n",
    "e2e_full_df = e2e_full_df.dropna(subset=\"E2E Total Count\").reset_index(drop=True)"
   ]
  },
  {
   "cell_type": "code",
   "execution_count": null,
   "metadata": {},
   "outputs": [],
   "source": [
    "e2e_full_df[\"Pass Percentage\"] = e2e_full_df[\"E2E Pass Count\"] / e2e_full_df[\"E2E Total Count\"] * 100\n",
    "pivot_full = e2e_full_df.pivot_table(index=[\"Test\", \"E2E Total Count\"], columns=\"Agent\", values=\"Pass Percentage\")\n",
    "\n",
    "pivot_full"
   ]
  },
  {
   "cell_type": "markdown",
   "metadata": {},
   "source": [
    "## Full tasks"
   ]
  },
  {
   "cell_type": "code",
   "execution_count": null,
   "metadata": {},
   "outputs": [],
   "source": [
    "csv_filenames = [f for f in os.listdir(E2E_FULL_TASKS_FOLDER_PATH) if f.endswith(\".csv\")]\n",
    "\n",
    "# retrieve the output files\n",
    "dataframes = []\n",
    "for filename in csv_filenames:\n",
    "    full_path = os.path.join(E2E_FULL_TASKS_FOLDER_PATH, filename)\n",
    "    print(f\"Processing individual outputs: {filename}\")\n",
    "    df = pd.read_csv(full_path)\n",
    "    df[\"Agent\"] = filename.split(\".csv\")[0]\n",
    "    dataframes.append(df)\n",
    "e2e_tasks_df = pd.concat(dataframes)"
   ]
  },
  {
   "cell_type": "code",
   "execution_count": null,
   "metadata": {},
   "outputs": [],
   "source": [
    "e2e_tasks_df"
   ]
  },
  {
   "cell_type": "code",
   "execution_count": null,
   "metadata": {},
   "outputs": [],
   "source": [
    "e2e_categories = e2e_tasks_df.groupby([\"Category\", \"Agent\"])[[\"Correct\", \"Total\"]].sum()\n",
    "e2e_categories[\"Pass Percentage\"] = e2e_categories[\"Correct\"] / e2e_categories[\"Total\"] * 100\n",
    "\n",
    "e2e_categories"
   ]
  },
  {
   "cell_type": "code",
   "execution_count": null,
   "metadata": {},
   "outputs": [],
   "source": [
    "e2e_tasks = e2e_tasks_df.groupby([\"Category\", \"Task\", \"Agent\"])[[\"Correct\", \"Total\"]].sum()\n",
    "e2e_tasks[\"Pass Percentage\"] = e2e_tasks[\"Correct\"] / e2e_tasks[\"Total\"] * 100\n",
    "\n",
    "e2e_tasks"
   ]
  },
  {
   "cell_type": "code",
   "execution_count": null,
   "metadata": {},
   "outputs": [],
   "source": [
    "e2e_tests = e2e_tasks_df.groupby([\"Category\", \"Task\", \"Test\", \"Agent\"])[[\"Correct\", \"Total\"]].sum()\n",
    "e2e_tests[\"Pass Percentage\"] = e2e_tests[\"Correct\"] / e2e_tests[\"Total\"] * 100\n",
    "\n",
    "e2e_tests"
   ]
  }
 ],
 "metadata": {
  "kernelspec": {
   "display_name": "benchmark-analysis",
   "language": "python",
   "name": "python3"
  },
  "language_info": {
   "codemirror_mode": {
    "name": "ipython",
    "version": 3
   },
   "file_extension": ".py",
   "mimetype": "text/x-python",
   "name": "python",
   "nbconvert_exporter": "python",
   "pygments_lexer": "ipython3",
   "version": "3.12.3"
  }
 },
 "nbformat": 4,
 "nbformat_minor": 2
}
