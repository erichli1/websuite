{
 "cells": [
  {
   "cell_type": "code",
   "execution_count": null,
   "metadata": {},
   "outputs": [],
   "source": [
    "import os\n",
    "import pandas as pd\n",
    "\n",
    "IND_FOLDER_PATH = \"outputs/ind\"\n",
    "E2E_FULL_FOLDER_PATH = \"outputs/e2e/full\"\n",
    "E2E_CHECKPOINTS_FOLDER_PATH = \"outputs/e2e/checkpoints\"\n",
    "E2E_CHECKPOINT_TASK_PATH = \"outputs/e2e/checkpoint_tasks\""
   ]
  },
  {
   "cell_type": "markdown",
   "metadata": {},
   "source": [
    "# Analyze individual tests"
   ]
  },
  {
   "cell_type": "code",
   "execution_count": null,
   "metadata": {},
   "outputs": [],
   "source": [
    "csv_filenames = [f for f in os.listdir(IND_FOLDER_PATH) if f.endswith(\".csv\")]\n",
    "\n",
    "# retrieve the output files\n",
    "dataframes = []\n",
    "for filename in csv_filenames:\n",
    "    full_path = os.path.join(IND_FOLDER_PATH, filename)\n",
    "    print(f\"Processing individual outputs: {filename}\")\n",
    "    df = pd.read_csv(full_path)\n",
    "    df[\"Agent\"] = filename.split(\".csv\")[0]\n",
    "    dataframes.append(df)\n",
    "ind_df = pd.concat(dataframes)"
   ]
  },
  {
   "cell_type": "code",
   "execution_count": null,
   "metadata": {},
   "outputs": [],
   "source": [
    "ind_categories = ind_df.groupby([\"Category\", \"Agent\"])[[\"Pass Count\", \"Total Count\"]].sum()\n",
    "ind_categories[\"Pass Percentage\"] = ind_categories[\"Pass Count\"] / ind_categories[\"Total Count\"] * 100\n",
    "pivot_categories = ind_categories.pivot_table(index=[\"Category\", \"Total Count\"], columns=\"Agent\", values=\"Pass Percentage\")\n",
    "\n",
    "pivot_categories"
   ]
  },
  {
   "cell_type": "code",
   "execution_count": null,
   "metadata": {},
   "outputs": [],
   "source": [
    "ind_tasks = ind_df.groupby([\"Category\", \"Task\", \"Agent\"])[[\"Pass Count\", \"Total Count\"]].sum()\n",
    "ind_tasks[\"Pass Percentage\"] = ind_tasks[\"Pass Count\"] / ind_tasks[\"Total Count\"] * 100\n",
    "pivot_tasks = ind_tasks.pivot_table(index=[\"Category\", \"Task\", \"Total Count\"], columns=\"Agent\", values=\"Pass Percentage\")\n",
    "\n",
    "pivot_tasks"
   ]
  },
  {
   "cell_type": "markdown",
   "metadata": {},
   "source": [
    "# Analyze E2E tests"
   ]
  },
  {
   "cell_type": "markdown",
   "metadata": {},
   "source": [
    "## Full"
   ]
  },
  {
   "cell_type": "code",
   "execution_count": null,
   "metadata": {},
   "outputs": [],
   "source": [
    "csv_filenames = [f for f in os.listdir(E2E_FULL_FOLDER_PATH) if f.endswith(\".csv\")]\n",
    "\n",
    "# retrieve the output files\n",
    "dataframes = []\n",
    "for filename in csv_filenames:\n",
    "    full_path = os.path.join(E2E_FULL_FOLDER_PATH, filename)\n",
    "    print(f\"Processing individual outputs: {filename}\")\n",
    "    df = pd.read_csv(full_path)\n",
    "    df[\"Agent\"] = filename.split(\".csv\")[0]\n",
    "    dataframes.append(df)\n",
    "e2e_full_df = pd.concat(dataframes)\n",
    "\n",
    "e2e_full_df = e2e_full_df.drop(columns=[\"Checkpoint\", \"Checkpoint Full Match\", \"Checkpoint Partial Match\", \"Checkpoint Missing\", \"Checkpoint Total Count\"])\n",
    "e2e_full_df = e2e_full_df.dropna(subset=\"E2E Total Count\").reset_index(drop=True)"
   ]
  },
  {
   "cell_type": "code",
   "execution_count": null,
   "metadata": {},
   "outputs": [],
   "source": [
    "e2e_full_df[\"Pass Percentage\"] = e2e_full_df[\"E2E Pass Count\"] / e2e_full_df[\"E2E Total Count\"] * 100\n",
    "pivot_full = e2e_full_df.pivot_table(index=[\"Test\", \"E2E Total Count\"], columns=\"Agent\", values=\"Pass Percentage\")\n",
    "\n",
    "pivot_full"
   ]
  },
  {
   "cell_type": "markdown",
   "metadata": {},
   "source": [
    "## Checkpoints"
   ]
  },
  {
   "cell_type": "code",
   "execution_count": null,
   "metadata": {},
   "outputs": [],
   "source": [
    "csv_filenames = [f for f in os.listdir(E2E_CHECKPOINTS_FOLDER_PATH) if f.endswith(\".csv\")]\n",
    "\n",
    "# retrieve the output files\n",
    "dataframes = []\n",
    "for filename in csv_filenames:\n",
    "    full_path = os.path.join(E2E_CHECKPOINTS_FOLDER_PATH, filename)\n",
    "    print(f\"Processing individual outputs: {filename}\")\n",
    "    df = pd.read_csv(full_path)\n",
    "    df[\"Agent\"] = filename.split(\".csv\")[0]\n",
    "    dataframes.append(df)\n",
    "e2e_checkpoints_df = pd.concat(dataframes)\n",
    "\n",
    "# remove unneeded columns (E2E test never being run, checkpoint never missing bc initialized there)\n",
    "e2e_checkpoints_df = e2e_checkpoints_df.drop(columns=[\"E2E Pass Count\", \"E2E Total Count\", \"Checkpoint Missing\"])\n",
    "e2e_checkpoints_df = e2e_checkpoints_df.dropna(subset=\"Checkpoint\").reset_index(drop=True)"
   ]
  },
  {
   "cell_type": "code",
   "execution_count": null,
   "metadata": {},
   "outputs": [],
   "source": [
    "e2e_checkpoints_df[\"Full Percentage\"] = e2e_checkpoints_df[\"Checkpoint Full Match\"] / e2e_checkpoints_df[\"Checkpoint Total Count\"] * 100\n",
    "pivot_checkpoints = e2e_checkpoints_df.pivot_table(index=[\"Test\", \"Checkpoint\", \"Checkpoint Total Count\"], columns=\"Agent\", values=\"Full Percentage\")\n",
    "\n",
    "pivot_checkpoints"
   ]
  },
  {
   "cell_type": "markdown",
   "metadata": {},
   "source": [
    "## Checkpoints (task)"
   ]
  },
  {
   "cell_type": "code",
   "execution_count": null,
   "metadata": {},
   "outputs": [],
   "source": [
    "csv_filenames = [f for f in os.listdir(E2E_CHECKPOINT_TASK_PATH) if f.endswith(\".csv\")]\n",
    "\n",
    "# retrieve the output files\n",
    "dataframes = []\n",
    "for filename in csv_filenames:\n",
    "    full_path = os.path.join(E2E_CHECKPOINT_TASK_PATH, filename)\n",
    "    print(f\"Processing individual outputs: {filename}\")\n",
    "    df = pd.read_csv(full_path)\n",
    "    df[\"Agent\"] = filename.split(\".csv\")[0]\n",
    "    dataframes.append(df)\n",
    "e2e_tasks_df = pd.concat(dataframes)"
   ]
  },
  {
   "cell_type": "code",
   "execution_count": null,
   "metadata": {},
   "outputs": [],
   "source": [
    "e2e_categories = e2e_tasks_df.groupby([\"Category\", \"Agent\"])[[\"Correct\", \"Total\"]].sum()\n",
    "e2e_categories[\"Pass Percentage\"] = e2e_categories[\"Correct\"] / e2e_categories[\"Total\"] * 100\n",
    "pivot_e2e_categories = e2e_categories.pivot_table(index=[\"Category\", \"Total\"], columns=\"Agent\", values=\"Pass Percentage\")\n",
    "\n",
    "pivot_e2e_categories"
   ]
  },
  {
   "cell_type": "code",
   "execution_count": null,
   "metadata": {},
   "outputs": [],
   "source": [
    "e2e_tasks = e2e_tasks_df.groupby([\"Category\", \"Task\", \"Agent\"])[[\"Correct\", \"Total\"]].sum()\n",
    "e2e_tasks[\"Pass Percentage\"] = e2e_tasks[\"Correct\"] / e2e_tasks[\"Total\"] * 100\n",
    "pivot_e2e_tasks = e2e_tasks.pivot_table(index=[\"Category\", \"Task\", \"Total\"], columns=\"Agent\", values=\"Pass Percentage\")\n",
    "\n",
    "pivot_e2e_tasks"
   ]
  },
  {
   "cell_type": "code",
   "execution_count": null,
   "metadata": {},
   "outputs": [],
   "source": []
  }
 ],
 "metadata": {
  "kernelspec": {
   "display_name": "benchmark-analysis",
   "language": "python",
   "name": "python3"
  },
  "language_info": {
   "codemirror_mode": {
    "name": "ipython",
    "version": 3
   },
   "file_extension": ".py",
   "mimetype": "text/x-python",
   "name": "python",
   "nbconvert_exporter": "python",
   "pygments_lexer": "ipython3",
   "version": "3.12.3"
  }
 },
 "nbformat": 4,
 "nbformat_minor": 2
}
