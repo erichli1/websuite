{
 "cells": [
  {
   "cell_type": "code",
   "execution_count": null,
   "metadata": {},
   "outputs": [],
   "source": [
    "import os\n",
    "import pandas as pd\n",
    "\n",
    "IND_FOLDER_PATH = \"outputs/ind\"\n",
    "E2E_FOLDER_PATH = \"outputs/e2e\""
   ]
  },
  {
   "cell_type": "markdown",
   "metadata": {},
   "source": [
    "# Analyze individual tests"
   ]
  },
  {
   "cell_type": "code",
   "execution_count": null,
   "metadata": {},
   "outputs": [],
   "source": [
    "csv_filenames = [f for f in os.listdir(IND_FOLDER_PATH) if f.endswith(\".csv\")]\n",
    "\n",
    "# retrieve the output files\n",
    "dataframes = []\n",
    "for filename in csv_filenames:\n",
    "    full_path = os.path.join(IND_FOLDER_PATH, filename)\n",
    "    print(f\"Processing individual outputs: {filename}\")\n",
    "    df = pd.read_csv(full_path)\n",
    "    df[\"Agent\"] = filename.split(\".csv\")[0]\n",
    "    dataframes.append(df)\n",
    "full_df = pd.concat(dataframes)"
   ]
  },
  {
   "cell_type": "code",
   "execution_count": null,
   "metadata": {},
   "outputs": [],
   "source": [
    "categories = full_df.groupby([\"Category\", \"Agent\"])[[\"Pass Count\", \"Total Count\"]].sum()\n",
    "categories[\"Pass Percentage\"] = categories[\"Pass Count\"] / categories[\"Total Count\"] * 100\n",
    "pivot_categories = categories.pivot_table(index=[\"Category\", \"Total Count\"], columns=\"Agent\", values=\"Pass Percentage\")\n",
    "pivot_categories"
   ]
  },
  {
   "cell_type": "code",
   "execution_count": null,
   "metadata": {},
   "outputs": [],
   "source": [
    "tasks = full_df.groupby([\"Category\", \"Task\", \"Agent\"])[[\"Pass Count\", \"Total Count\"]].sum()\n",
    "tasks[\"Pass Percentage\"] = tasks[\"Pass Count\"] / tasks[\"Total Count\"] * 100\n",
    "pivot_tasks = tasks.pivot_table(index=[\"Category\", \"Task\", \"Total Count\"], columns=\"Agent\", values=\"Pass Percentage\")\n",
    "pivot_tasks"
   ]
  },
  {
   "cell_type": "markdown",
   "metadata": {},
   "source": [
    "# Analyze E2E tests"
   ]
  }
 ],
 "metadata": {
  "kernelspec": {
   "display_name": "benchmark-analysis",
   "language": "python",
   "name": "python3"
  },
  "language_info": {
   "codemirror_mode": {
    "name": "ipython",
    "version": 3
   },
   "file_extension": ".py",
   "mimetype": "text/x-python",
   "name": "python",
   "nbconvert_exporter": "python",
   "pygments_lexer": "ipython3",
   "version": "3.12.3"
  }
 },
 "nbformat": 4,
 "nbformat_minor": 2
}
